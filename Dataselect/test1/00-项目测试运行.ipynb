{
 "cells": [
  {
   "cell_type": "code",
   "execution_count": 1,
   "metadata": {
    "pycharm": {
     "is_executing": false
    }
   },
   "outputs": [],
   "source": [
    "import numpy as np\n",
    "from sklearn.model_selection import train_test_split\n",
    "from sklearn.ensemble import RandomForestRegressor"
   ]
  },
  {
   "cell_type": "markdown",
   "metadata": {},
   "source": [
    "# 不去除零值"
   ]
  },
  {
   "cell_type": "code",
   "execution_count": 2,
   "metadata": {
    "scrolled": true,
    "pycharm": {
     "is_executing": false
    }
   },
   "outputs": [
    {
     "name": "stdout",
     "text": [
      "(34, 62, 13)\n['0' '18.67' '15.86' '11.12' ' 9.21' ' 9.64' ' 9.99' '10.23' ' 9.40'\n ' 9.08' ' 6.62']\n"
     ],
     "output_type": "stream"
    }
   ],
   "source": [
    "# 处理数据\n",
    "data1 = np.load('data10.npy')\n",
    "# print(data[0][0])\n",
    "print(data1.shape)\n",
    "data1 = data1.reshape((2108,13))\n",
    "# print(data1)\n",
    "features = np.delete(data1,[2,5],axis = 1)\n",
    "targets = data1[:,[2,5]]\n",
    "print(features[0])\n",
    "# print(targets)\n",
    "# print(features.shape)"
   ]
  },
  {
   "cell_type": "code",
   "execution_count": 3,
   "metadata": {
    "pycharm": {
     "is_executing": false
    }
   },
   "outputs": [
    {
     "name": "stdout",
     "text": [
      "(34, 62, 13)\n['0' ' 8.33' ' 6.99' ' 5.98' ' 7.60' ' 9.32' ' 8.78' '10.06' '10.28'\n '10.94' '13.46']\n[' 8.80' ' 7.51']\n"
     ],
     "output_type": "stream"
    }
   ],
   "source": [
    "# 测试数据\n",
    "data = np.load('data11.npy')\n",
    "# print(data[0][0])\n",
    "print(data.shape)\n",
    "data1 = data.reshape((2108,13))\n",
    "# print(data1)\n",
    "features_test = np.delete(data1,[2,5],axis = 1)\n",
    "targets_test = data1[:,[2,5]]\n",
    "print(features_test[20])\n",
    "print(targets_test[20])"
   ]
  },
  {
   "cell_type": "code",
   "execution_count": 4,
   "metadata": {
    "pycharm": {
     "is_executing": false
    }
   },
   "outputs": [
    {
     "data": {
      "text/plain": "array([[7.2373, 7.5583]])"
     },
     "metadata": {},
     "output_type": "execute_result",
     "execution_count": 4
    }
   ],
   "source": [
    "# 随机森林回归\n",
    "rfr = RandomForestRegressor()\n",
    "rfr.fit(features,targets)   #训练数据\n",
    "rfr.predict([['0',' 8.33',' 6.99',' 5.98',' 7.60',' 9.32',' 8.78','10.06','10.28','10.94','13.46']]) #预测数据\n",
    "# rfr.score(features_test,targets_test)"
   ]
  }
 ],
 "metadata": {
  "kernelspec": {
   "display_name": "Python 3",
   "language": "python",
   "name": "python3"
  },
  "language_info": {
   "codemirror_mode": {
    "name": "ipython",
    "version": 3
   },
   "file_extension": ".py",
   "mimetype": "text/x-python",
   "name": "python",
   "nbconvert_exporter": "python",
   "pygments_lexer": "ipython3",
   "version": "3.6.3"
  },
  "toc": {
   "base_numbering": 1,
   "nav_menu": {},
   "number_sections": true,
   "sideBar": true,
   "skip_h1_title": false,
   "title_cell": "Table of Contents",
   "title_sidebar": "Contents",
   "toc_cell": false,
   "toc_position": {},
   "toc_section_display": true,
   "toc_window_display": false
  },
  "pycharm": {
   "stem_cell": {
    "cell_type": "raw",
    "source": [],
    "metadata": {
     "collapsed": false
    }
   }
  }
 },
 "nbformat": 4,
 "nbformat_minor": 4
}